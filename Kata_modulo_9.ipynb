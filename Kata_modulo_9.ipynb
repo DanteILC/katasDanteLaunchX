{
  "cells": [
    {
      "cell_type": "markdown",
      "metadata": {},
      "source": [
        "# Ejercicio: Uso de funciones en Python"
      ]
    },
    {
      "cell_type": "markdown",
      "metadata": {},
      "source": [
        "### Ejercicio 1: Trabajar con argumentos en funciones\n",
        "\n",
        "Los argumentos requeridos en las funciones se utilizan cuando las funciones necesitan que esos argumentos funcionen correctamente. En este ejercicio, construirás un informe de combustible que requiere información de varias ubicaciones de combustible en todo el cohete.\n",
        "\n"
      ]
    },
    {
      "cell_type": "markdown",
      "metadata": {},
      "source": [
        "> **TIP**\n",
        "> Dedica unos minutos para tratar de encontrar una solución. Luego desplázate hacia abajo hasta la parte inferior para ver si has logrado compilar el programa de acuerdo con las especificaciones\n",
        "\n",
        "Comienza por crear una función que necesite tres lecturas de combustible y devuelva un informe:"
      ]
    },
    {
      "cell_type": "code",
      "execution_count": 8,
      "metadata": {},
      "outputs": [],
      "source": [
        "# Función para leer 3 tanques de combustible y muestre el promedio\n",
        "def generate_report(tanque_1, tanque_2, tanque_3):\n",
        "    total_average = (tanque_1 + tanque_2 + tanque_3) / 3\n",
        "    return f\"\"\"Fuel Report:\n",
        "    Total Average: {total_average}%\n",
        "    Tanque 1: {tanque_1}%\n",
        "    Tanque 2: {tanque_2}%\n",
        "    Tanque 3: {tanque_3}% \n",
        "    \"\"\""
      ]
    },
    {
      "cell_type": "markdown",
      "metadata": {},
      "source": [
        "Ahora que hemos definido la función de informes, vamos a comprobarlo. Para esta misión, los tanques no están llenos:"
      ]
    },
    {
      "cell_type": "code",
      "execution_count": 9,
      "metadata": {},
      "outputs": [
        {
          "name": "stdout",
          "output_type": "stream",
          "text": [
            "Fuel Report:\n",
            "    Total Average: 68.33333333333333%\n",
            "    Tanque 1: 50%\n",
            "    Tanque 2: 60%\n",
            "    Tanque 3: 95% \n",
            "    \n"
          ]
        }
      ],
      "source": [
        "\n",
        "# Llamamos a la función que genera el reporte print(funcion(tanque1, tanque2, tanque3))\n",
        "print(generate_report(50, 60, 95))"
      ]
    },
    {
      "cell_type": "markdown",
      "metadata": {},
      "source": [
        "En lugar de simplemente crear el informe, la función también está calculando el promedio. Mejora la legibilidad extrayendo el cálculo promedio de la función en una nueva función para que el promedio se pueda hacer de forma independiente:"
      ]
    },
    {
      "cell_type": "code",
      "execution_count": 10,
      "metadata": {},
      "outputs": [
        {
          "data": {
            "text/plain": [
              "68.66666666666667"
            ]
          },
          "execution_count": 10,
          "metadata": {},
          "output_type": "execute_result"
        }
      ],
      "source": [
        "# Función promedio \n",
        "def average(values):\n",
        "    total = sum(values)\n",
        "    number_of_items = len(values)\n",
        "    return total / number_of_items\n",
        "\n",
        "average([60, 65, 81]) "
      ]
    },
    {
      "cell_type": "markdown",
      "metadata": {},
      "source": [
        "Ahora actualiza la función de informes para llamando a la nueva función del promedio:\n"
      ]
    },
    {
      "cell_type": "code",
      "execution_count": 14,
      "metadata": {},
      "outputs": [
        {
          "name": "stdout",
          "output_type": "stream",
          "text": [
            "Fuel Report:\n",
            "    Total Average: 68.66666666666667%\n",
            "    Tanque 1: 60%\n",
            "    Tanque 2: 65%\n",
            "    Tanque 3: 81% \n",
            "    \n"
          ]
        }
      ],
      "source": [
        "# Actualiza la función\n",
        "def generate_report(tanque_1, tanque_2, tanque_3):\n",
        "    return f\"\"\"Fuel Report:\n",
        "    Total Average: {average([tanque_1, tanque_2, tanque_3])}%\n",
        "    Tanque 1: {tanque_1}%\n",
        "    Tanque 2: {tanque_2}%\n",
        "    Tanque 3: {tanque_3}% \n",
        "    \"\"\"\n",
        "\n",
        "print(generate_report(60, 65, 81))"
      ]
    },
    {
      "cell_type": "markdown",
      "metadata": {},
      "source": [
        "> Recuerda: Lo importante es intentarlo, puedes auxiliarte de internet, libros, etc. El objetivo de una kata es la comprobación de la comprensión de la lección y su aplicación inmediata a la resolución de problemas. Go for it!"
      ]
    },
    {
      "cell_type": "markdown",
      "metadata": {},
      "source": [
        "## Ejercicio 2: Trabajo con argumentos de palabra clave"
      ]
    },
    {
      "cell_type": "markdown",
      "metadata": {},
      "source": [
        "### Ejercicio : Trabajar con argumentos de palabras clave en funciones\n",
        "En este ejercicio, construirás un informe de cohete que requiere varias piezas de información, como el tiempo hasta el destino, el combustible a la izquierda y el nombre del destino. Comienza por crear una función que creará un informe preciso de la misión:"
      ]
    },
    {
      "cell_type": "code",
      "execution_count": 19,
      "metadata": {},
      "outputs": [
        {
          "name": "stdout",
          "output_type": "stream",
          "text": [
            "\n",
            "    Mision a Luna\n",
            "    Tiempo total de viaje: 71 minutos\n",
            "    Combustible total restante: 500000 galones\n",
            "    \n"
          ]
        }
      ],
      "source": [
        "# Función con un informe preciso de la misión. Considera hora de prelanzamiento, tiempo de vuelo, destino, tanque externo y tanque interno\n",
        "def reporte_mision(pre_lanzamiento, tiempo_de_vuelo, destino, tanque_externo, tanque_principal):\n",
        "    return f\"\"\"\n",
        "    Mision a {destino}\n",
        "    Tiempo total de viaje: {pre_lanzamiento + tiempo_de_vuelo} minutos\n",
        "    Combustible total restante: {tanque_externo + tanque_principal} galones\n",
        "    \"\"\"\n",
        "\n",
        "print(reporte_mision(16, 55, \"Luna\", 200000, 300000))"
      ]
    },
    {
      "cell_type": "markdown",
      "metadata": {},
      "source": [
        "La función es problemática porque no se puede adaptar para minutos adicionales o tanques adicionales de combustible. Hazlo más flexible permitiendo cualquier número de pasos basados en el tiempo y cualquier número de tanques. En lugar de usar `*args` y `**kwargs`, aprovecha el hecho de que puedes usar cualquier nombre que desees. Asegurate que la función sea más legible mediante el uso de nombres de variables que están asociados con las entradas, como `*minutes` y `**fuel_reservoirs`:"
      ]
    },
    {
      "cell_type": "code",
      "execution_count": 21,
      "metadata": {},
      "outputs": [
        {
          "name": "stdout",
          "output_type": "stream",
          "text": [
            "\n",
            "    Mision a Luna\n",
            "    Tiempo total de viaje: 76 minutos\n",
            "    Combustible total restante: 500000 galones\n",
            "    \n"
          ]
        }
      ],
      "source": [
        "# Escribe tu nueva función de reporte considerando lo anterior\n",
        "def reporte_mision(destino, *minutos, **combustible):\n",
        "    return f\"\"\"\n",
        "    Mision a {destino}\n",
        "    Tiempo total de viaje: {sum(minutos)} minutos\n",
        "    Combustible total restante: {sum(combustible.values())} galones\n",
        "    \"\"\"\n",
        "\n",
        "print(reporte_mision(\"Luna\", 10, 15, 51, main=300000, external=200000))"
      ]
    },
    {
      "cell_type": "markdown",
      "metadata": {},
      "source": [
        "Debido a que el combustible que queda en los tanques es específico de cada tanque, actualiza la función para usar el nombre de cada tanque en el informe:"
      ]
    },
    {
      "cell_type": "code",
      "execution_count": 27,
      "metadata": {},
      "outputs": [
        {
          "name": "stdout",
          "output_type": "stream",
          "text": [
            "\n",
            "    Mision a Luna\n",
            "    Tiempo total de viaje: 74 minutos\n",
            "    Combustible total restante: 500000\n",
            "    tanque principal --> 300000 galones restantes\n",
            "tanque externo --> 200000 galones restantes\n",
            "\n"
          ]
        }
      ],
      "source": [
        "# Escribe tu nueva función\n",
        "def reporte_mision(destino, *minutos, **combustible):\n",
        "    main_report = f\"\"\"\n",
        "    Mision a {destino}\n",
        "    Tiempo total de viaje: {sum(minutos)} minutos\n",
        "    Combustible total restante: {sum(combustible.values())}\n",
        "    \"\"\"\n",
        "    for tank_name, galones in combustible.items():\n",
        "        main_report += f\"tanque {tank_name} --> {galones} galones restantes\\n\"\n",
        "    return main_report\n",
        "\n",
        "print(reporte_mision(\"Luna\", 8, 11, 55, principal=300000, externo=200000))"
      ]
    }
  ],
  "metadata": {
    "interpreter": {
      "hash": "205095b8b86ea82a021a8fc2ffba2b3bc9f8d0be25999901963b225939f75778"
    },
    "kernelspec": {
      "display_name": "Python 3.8.10 64-bit ('tmp': conda)",
      "name": "python3"
    },
    "language_info": {
      "codemirror_mode": {
        "name": "ipython",
        "version": 3
      },
      "file_extension": ".py",
      "mimetype": "text/x-python",
      "name": "python",
      "nbconvert_exporter": "python",
      "pygments_lexer": "ipython3",
      "version": "3.10.2"
    },
    "nteract": {
      "version": "nteract-front-end@1.0.0"
    },
    "orig_nbformat": 4
  },
  "nbformat": 4,
  "nbformat_minor": 2
}
